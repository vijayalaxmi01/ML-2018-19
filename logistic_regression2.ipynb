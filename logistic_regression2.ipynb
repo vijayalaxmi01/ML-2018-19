{
 "cells": [
  {
   "cell_type": "code",
   "execution_count": 1,
   "metadata": {},
   "outputs": [
    {
     "name": "stderr",
     "output_type": "stream",
     "text": [
      "/home/lenovo/ML/anaconda3/lib/python3.6/site-packages/h5py/__init__.py:36: FutureWarning: Conversion of the second argument of issubdtype from `float` to `np.floating` is deprecated. In future, it will be treated as `np.float64 == np.dtype(float).type`.\n",
      "  from ._conv import register_converters as _register_converters\n"
     ]
    }
   ],
   "source": [
    "#logistic_regression\n",
    "import tensorflow as tf\n",
    "import math\n",
    "import numpy\n",
    "import pandas as pd\n",
    "import matplotlib.pyplot as plt\n",
    "import time\n",
    "rng = numpy.random\n",
    "start_time = time.time()"
   ]
  },
  {
   "cell_type": "code",
   "execution_count": 2,
   "metadata": {},
   "outputs": [],
   "source": [
    "#parameters\n",
    "epochs = 1000\n",
    "learning_rate = 0.1\n",
    "\n",
    "df = pd.read_csv('logistic3.txt', names=['x','y'])\n",
    "train_X = df['x']\n",
    "train_Y = df['y']\n",
    "n_samples = train_X.shape[0]"
   ]
  },
  {
   "cell_type": "code",
   "execution_count": 3,
   "metadata": {},
   "outputs": [],
   "source": [
    "m = 3\n",
    "b = 1\n",
    "\n"
   ]
  },
  {
   "cell_type": "code",
   "execution_count": 4,
   "metadata": {},
   "outputs": [],
   "source": [
    "\n",
    "\n",
    "def calc_h(x,m,b):\n",
    "    # 1/(1 + e^ -(mx+b))\n",
    "    term = (m*x) + b\n",
    "    term = term * -1.0\n",
    "    exp1 = 1.0 + math.exp(term)\n",
    "    exp2 = 1.0 / exp1\n",
    "    #print(\"X = \",x,\" h[x] = \",exp2)\n",
    "    return exp2\n",
    "\n",
    "def calc_hx(h,x,y):\n",
    "    a = (h-y)*x\n",
    "    #print(\"h[x].x = \",sess.run(a))\n",
    "    return a\n",
    "\n",
    "def calc_cost(h,x,y):\n",
    "    a = math.log(h)\n",
    "    b1 = -1.0 * y\n",
    "    b = b1* a\n",
    "    \n",
    "    c = 1.0 - h\n",
    "    d = math.log(c)\n",
    "    e = 1.0 - y\n",
    "    g = d *e\n",
    "    \n",
    "    f = b-g\n",
    "    return f"
   ]
  },
  {
   "cell_type": "code",
   "execution_count": 5,
   "metadata": {},
   "outputs": [
    {
     "name": "stdout",
     "output_type": "stream",
     "text": [
      "iteration no :  0   m =  3.0025589863369846   b =  0.9482118589324721   cost =  0.15308555917578712\n",
      "iteration no :  1   m =  3.005027984105807   b =  0.8965389229099031   cost =  0.14732325809940858\n",
      "iteration no :  2   m =  3.007412732334884   b =  0.8449773953248079   cost =  0.14195063635039834\n",
      "iteration no :  3   m =  3.009718788349839   b =  0.7935237024401981   cost =  0.13695183061420957\n",
      "iteration no :  4   m =  3.0119515370978838   b =  0.7421744886910899   cost =  0.1323120450107427\n",
      "iteration no :  5   m =  3.014116200359675   b =  0.6909266119534367   cost =  0.12801749983929955\n",
      "iteration no :  6   m =  3.016217845827971   b =  0.639777138813488   cost =  0.12405538303470393\n",
      "iteration no :  7   m =  3.018261396034779   b =  0.588723339865573   cost =  0.12041380422612906\n",
      "iteration no :  8   m =  3.0202516371108508   b =  0.5377626850616707   cost =  0.11708175128283123\n",
      "iteration no :  9   m =  3.0221932273633016   b =  0.48689283913183895   cost =  0.11404904922539023\n",
      "iteration no :  10   m =  3.0240907056588315   b =  0.4361116570906358   cost =  0.1113063213770129\n",
      "iteration no :  11   m =  3.025948499601459   b =  0.38541717984103585   cost =  0.10884495262670027\n",
      "iteration no :  12   m =  3.0277709334949163   b =  0.3348076298840252   cost =  0.10665705467440603\n",
      "iteration no :  13   m =  3.029562236080842   b =  0.2842814071390146   cost =  0.10473543312759062\n",
      "iteration no :  14   m =  3.0313265480446985   b =  0.23383708487742724   cost =  0.10307355631855541\n",
      "iteration no :  15   m =  3.0330679292819482   b =  0.18347340576927154   cost =  0.10166552571257212\n",
      "iteration no :  16   m =  3.034790365917428   b =  0.13318927804018466   cost =  0.1005060477779491\n",
      "iteration no :  17   m =  3.0364977770711272   b =  0.08298377173430624   cost =  0.09959040719071088\n",
      "iteration no :  18   m =  3.0381940213636907   b =  0.03285611507640374   cost =  0.09891444124844956\n",
      "iteration no :  19   m =  3.0398829031549512   b =  -0.017194309075097752   cost =  0.09847451537008708\n",
      "iteration no :  20   m =  3.0415681785086885   b =  -0.06716796669413524   cost =  0.09826749956071229\n"
     ]
    },
    {
     "data": {
      "image/png": "[encoded data removed]",
      "text/plain": [
       "<Figure size 432x288 with 1 Axes>"
      ]
     },
     "metadata": {},
     "output_type": "display_data"
    }
   ],
   "source": [
    "# Initializing the variables\n",
    "c2 = 1000.0\n",
    "\n",
    "    \n",
    "for t in range(epochs):\n",
    "        \n",
    "    h = [] # h[x] = 1 / (1+(exp(b-mx))))\n",
    "    hx = []\n",
    "    cost = 0.0\n",
    "    sum_hx = 0.0\n",
    "    sum_h = 0.0\n",
    "    for i in train_X:\n",
    "        h.append(calc_h(i,m,b))\n",
    "\n",
    "    for (i,j,k) in zip(h,train_X,train_Y):\n",
    "        t1 = calc_hx(i,j,k)\n",
    "        hx.append(t1)\n",
    "        sum_hx = sum_hx + t1\n",
    "        sum_h = sum_h + i\n",
    "        cost = cost + calc_cost(i,j,k)\n",
    "            \n",
    "    if(cost > c2):\n",
    "        break\n",
    "    \n",
    "    #if(cost < 0.01):\n",
    "        #break\n",
    "\n",
    "\n",
    "    m_new = m - ((learning_rate/n_samples) * sum_hx)\n",
    "    #print(sess.run(m_new)) \n",
    "\n",
    "    b_new = b - ((learning_rate/n_samples) * sum_h)\n",
    "    #print(sess.run(b_new))\n",
    "\n",
    "    #print(sess.run(cost))\n",
    "    m = m_new\n",
    "    b = b_new\n",
    "        \n",
    "    print(\"iteration no : \",t,\"  m = \",(m_new),\"  b = \",(b_new),\"  cost = \",(cost))\n",
    "        \n",
    "    c2 = (cost)\n",
    "        \n",
    "plt.plot(train_X,train_Y,'ro')\n",
    "plt.plot(train_X,h,label='logestic regression')\n",
    "plt.legend()\n",
    "plt.show()\n",
    "        \n",
    "        "
   ]
  },
  {
   "cell_type": "code",
   "execution_count": null,
   "metadata": {},
   "outputs": [],
   "source": []
  }
 ],
 "metadata": {
  "kernelspec": {
   "display_name": "Python 3",
   "language": "python",
   "name": "python3"
  },
  "language_info": {
   "codemirror_mode": {
    "name": "ipython",
    "version": 3
   },
   "file_extension": ".py",
   "mimetype": "text/x-python",
   "name": "python",
   "nbconvert_exporter": "python",
   "pygments_lexer": "ipython3",
   "version": "3.6.5"
  }
 },
 "nbformat": 4,
 "nbformat_minor": 2
}
