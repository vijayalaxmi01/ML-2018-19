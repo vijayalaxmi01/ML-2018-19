{
 "cells": [
  {
   "cell_type": "code",
   "execution_count": 12,
   "metadata": {},
   "outputs": [],
   "source": [
    "import tensorflow as tf\n",
    "import numpy\n",
    "import pandas as pd\n",
    "import matplotlib.pyplot as plt\n",
    "rng = numpy.random"
   ]
  },
  {
   "cell_type": "code",
   "execution_count": 27,
   "metadata": {},
   "outputs": [],
   "source": [
    "# Parameters\n",
    "learning_rate = 0.01\n",
    "training_epochs = 1000\n",
    "display_step = 50"
   ]
  },
  {
   "cell_type": "code",
   "execution_count": 28,
   "metadata": {},
   "outputs": [],
   "source": [
    "# Training Data\n",
    "#train_X=numpy.asarray([1,2,4,3,5])\n",
    "#train_Y=numpy.asarray([1,3,3,2,5])\n",
    "df = pd.read_csv('life.txt', names=['x','y'])\n",
    "train_X = df['x']\n",
    "train_Y = df['y']\n",
    "n_samples = train_X.shape[0]"
   ]
  },
  {
   "cell_type": "code",
   "execution_count": 29,
   "metadata": {},
   "outputs": [],
   "source": [
    "# tf Graph Input\n",
    "X = tf.placeholder(\"float\")\n",
    "Y = tf.placeholder(\"float\")\n",
    "\n",
    "# Set model weights\n",
    "W = tf.Variable(rng.randn(), name=\"weight\")\n",
    "b = tf.Variable(rng.randn(), name=\"bias\")"
   ]
  },
  {
   "cell_type": "code",
   "execution_count": 30,
   "metadata": {},
   "outputs": [],
   "source": [
    "# Construct a linear model\n",
    "pred = tf.add(tf.multiply(X, W), b)"
   ]
  },
  {
   "cell_type": "code",
   "execution_count": 31,
   "metadata": {},
   "outputs": [],
   "source": [
    "# Mean squared error\n",
    "cost = tf.reduce_sum(tf.pow(pred-Y, 2))/(2*n_samples)\n",
    "# Gradient descent\n",
    "optimizer = tf.train.GradientDescentOptimizer(learning_rate).minimize(cost)"
   ]
  },
  {
   "cell_type": "code",
   "execution_count": 32,
   "metadata": {},
   "outputs": [],
   "source": [
    "# Initializing the variables\n",
    "init = tf.global_variables_initializer()"
   ]
  },
  {
   "cell_type": "code",
   "execution_count": 33,
   "metadata": {},
   "outputs": [
    {
     "name": "stdout",
     "output_type": "stream",
     "text": [
      "Epoch: 0050 cost= 574.682434082 W= 15.488869 b= 11.273601\n",
      "Epoch: 0100 cost= 479.189697266 W= 13.67215 b= 17.929972\n",
      "Epoch: 0150 cost= 400.151336670 W= 11.94273 b= 23.971422\n",
      "Epoch: 0200 cost= 334.574432373 W= 10.367087 b= 29.47436\n",
      "Epoch: 0250 cost= 280.165161133 W= 8.931847 b= 34.486942\n",
      "Epoch: 0300 cost= 235.022262573 W= 7.6245112 b= 39.05281\n",
      "Epoch: 0350 cost= 197.567611694 W= 6.4337 b= 43.211784\n",
      "Epoch: 0400 cost= 166.492050171 W= 5.348994 b= 47.0001\n",
      "Epoch: 0450 cost= 140.709304810 W= 4.3609705 b= 50.450775\n",
      "Epoch: 0500 cost= 119.318511963 W= 3.4610207 b= 53.593815\n",
      "Epoch: 0550 cost= 101.569862366 W= 2.6412477 b= 56.456917\n",
      "Epoch: 0600 cost= 86.844451904 W= 1.8945394 b= 59.06481\n",
      "Epoch: 0650 cost= 74.627418518 W= 1.2143749 b= 61.440228\n",
      "Epoch: 0700 cost= 64.490776062 W= 0.5948144 b= 63.604046\n",
      "Epoch: 0750 cost= 56.080585480 W= 0.030456373 b= 65.57505\n",
      "Epoch: 0800 cost= 49.103321075 W= -0.4835719 b= 67.37029\n",
      "Epoch: 0850 cost= 43.315441132 W= -0.9517148 b= 69.005264\n",
      "Epoch: 0900 cost= 38.511974335 W= -1.378246 b= 70.49498\n",
      "Epoch: 0950 cost= 34.525947571 W= -1.7668028 b= 71.85223\n",
      "Epoch: 1000 cost= 31.220405579 W= -2.1206536 b= 73.08797\n",
      "Optimization Finished!\n",
      "Training cost= 31.220406 W= -2.1206536 b= 73.08797 \n",
      "\n"
     ]
    },
    {
     "data": {
      "image/png": "[encoded data removed]",
      "text/plain": [
       "<Figure size 432x288 with 1 Axes>"
      ]
     },
     "metadata": {},
     "output_type": "display_data"
    }
   ],
   "source": [
    "# Launch the graph\n",
    "with tf.Session() as sess:\n",
    "    sess.run(init)\n",
    "\n",
    "    # Fit all training data\n",
    "    for epoch in range(training_epochs):\n",
    "        for (x, y) in zip(train_X, train_Y):\n",
    "            sess.run(optimizer, feed_dict={X: x, Y: y})\n",
    "\n",
    "        #Display logs per epoch step\n",
    "        if (epoch+1) % display_step == 0:\n",
    "            c = sess.run(cost, feed_dict={X: train_X, Y:train_Y})\n",
    "            print (\"Epoch:\", '%04d' % (epoch+1), \"cost=\", \"{:.9f}\".format(c), \\\n",
    "                \"W=\", sess.run(W), \"b=\", sess.run(b))\n",
    "\n",
    "    print (\"Optimization Finished!\")\n",
    "    training_cost = sess.run(cost, feed_dict={X: train_X, Y: train_Y})\n",
    "    print (\"Training cost=\", training_cost, \"W=\", sess.run(W), \"b=\", sess.run(b), '\\n')\n",
    "\n",
    "    #Graphic display\n",
    "    plt.plot(train_X, train_Y, 'ro', label='Original data')\n",
    "    plt.plot(train_X, sess.run(W) * train_X + sess.run(b), label='Fitted line')\n",
    "    plt.legend()\n",
    "    plt.show()"
   ]
  },
  {
   "cell_type": "code",
   "execution_count": null,
   "metadata": {},
   "outputs": [],
   "source": []
  }
 ],
 "metadata": {
  "kernelspec": {
   "display_name": "Python 3",
   "language": "python",
   "name": "python3"
  },
  "language_info": {
   "codemirror_mode": {
    "name": "ipython",
    "version": 3
   },
   "file_extension": ".py",
   "mimetype": "text/x-python",
   "name": "python",
   "nbconvert_exporter": "python",
   "pygments_lexer": "ipython3",
   "version": "3.6.5"
  }
 },
 "nbformat": 4,
 "nbformat_minor": 2
}
